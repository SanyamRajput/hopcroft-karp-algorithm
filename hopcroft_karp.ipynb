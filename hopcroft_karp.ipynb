{
 "cells": [
  {
   "cell_type": "markdown",
   "metadata": {},
   "source": [
    "# Hopcroft Karp Algorithm\n",
    "\n",
    "Let's start with defining our graph\n"
   ]
  },
  {
   "cell_type": "markdown",
   "metadata": {},
   "source": [
    "BFS"
   ]
  },
  {
   "cell_type": "code",
   "execution_count": 10,
   "metadata": {},
   "outputs": [],
   "source": [
    "from collections import deque\n",
    "\n",
    "def bfs(graph, pair_U, pair_V, dist): \n",
    "    queue = deque()\n",
    "\n",
    "    for u in graph['U']: \n",
    "        if pair_U[u] is None: \n",
    "            dist[u] = 0\n",
    "            queue.append(u)\n",
    "        else: \n",
    "            dist[u] = float('inf')\n",
    "    \n",
    "    dist[None] = float('inf')\n",
    "\n",
    "    while queue: \n",
    "        u = queue.popleft()\n",
    "\n",
    "        if dist[u] < dist[None]: \n",
    "            for v in graph['edges'][u]: \n",
    "                if dist[pair_V[v]] == float('inf'): \n",
    "                    dist[pair_V[v]] = dist[u] + 1\n",
    "                    queue.append(pair_V[v])\n",
    "    \n",
    "    return dist[None] !=float('inf')\n"
   ]
  },
  {
   "cell_type": "markdown",
   "metadata": {},
   "source": [
    "DFS"
   ]
  },
  {
   "cell_type": "code",
   "execution_count": 16,
   "metadata": {},
   "outputs": [],
   "source": [
    "def dfs(graph, u, pair_U, pair_V, dist):\n",
    "    if u is not None:\n",
    "        for v in graph['edges'][u]:\n",
    "            if dist[pair_V[v]] == dist[u] + 1:\n",
    "                if dfs(graph, pair_V[v], pair_U, pair_V, dist):\n",
    "                    pair_V[v] = u\n",
    "                    pair_U[u] = v\n",
    "                    return True\n",
    "        dist[u] = float('inf')\n",
    "        return False\n",
    "    return True\n"
   ]
  },
  {
   "cell_type": "markdown",
   "metadata": {},
   "source": [
    "## Hopcraft Karp\n"
   ]
  },
  {
   "cell_type": "code",
   "execution_count": 14,
   "metadata": {},
   "outputs": [],
   "source": [
    "def hopcroft_karp(graph): \n",
    "    pair_U = { u: None for u in graph['U']}\n",
    "    pair_V = { v: None for v in graph['V']}\n",
    "    dist = {}\n",
    "\n",
    "    matching = 0\n",
    "\n",
    "    while bfs(graph, pair_U, pair_V, dist): \n",
    "        for u in graph['U']: \n",
    "            if pair_U[u] is None: \n",
    "                if dfs(graph, u, pair_U, pair_V, dist): \n",
    "                    matching +=1\n",
    "    \n",
    "    return matching, pair_U, pair_V\n",
    "        "
   ]
  },
  {
   "cell_type": "code",
   "execution_count": 13,
   "metadata": {},
   "outputs": [],
   "source": [
    "# Define the bipartite graph using an adjacency list\n",
    "graph = {\n",
    "    'U': ['a', 'b', 'c', 'd', 'e'],  # U set\n",
    "    'V': ['A', 'B', 'C', 'D'],  # V set\n",
    "    'edges': {\n",
    "        'a': ['A', 'C'],\n",
    "        'b': ['B', 'C', 'D'],\n",
    "        'c': ['A', 'B', 'C'], \n",
    "        'd': ['C', 'D'], \n",
    "        'e': ['A', 'C', 'D']\n",
    "    }\n",
    "}"
   ]
  },
  {
   "cell_type": "code",
   "execution_count": 17,
   "metadata": {},
   "outputs": [
    {
     "name": "stdout",
     "output_type": "stream",
     "text": [
      "Maximum matching size: 4\n",
      "Pairings in U: {'a': 'A', 'b': 'B', 'c': 'C', 'd': 'D', 'e': None}\n",
      "Pairings in V: {'A': 'a', 'B': 'b', 'C': 'c', 'D': 'd'}\n"
     ]
    }
   ],
   "source": [
    "# Execute the Hopcroft-Karp algorithm\n",
    "matching, pair_U, pair_V = hopcroft_karp(graph)\n",
    "\n",
    "print(\"Maximum matching size:\", matching)\n",
    "print(\"Pairings in U:\", pair_U)\n",
    "print(\"Pairings in V:\", pair_V)\n"
   ]
  }
 ],
 "metadata": {
  "kernelspec": {
   "display_name": ".venv",
   "language": "python",
   "name": "python3"
  },
  "language_info": {
   "codemirror_mode": {
    "name": "ipython",
    "version": 3
   },
   "file_extension": ".py",
   "mimetype": "text/x-python",
   "name": "python",
   "nbconvert_exporter": "python",
   "pygments_lexer": "ipython3",
   "version": "3.10.14"
  }
 },
 "nbformat": 4,
 "nbformat_minor": 2
}
